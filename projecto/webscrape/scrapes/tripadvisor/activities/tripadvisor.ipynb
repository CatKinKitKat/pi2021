{
 "cells": [
  {
   "cell_type": "markdown",
   "metadata": {},
   "source": []
  },
  {
   "cell_type": "code",
   "execution_count": null,
   "metadata": {},
   "outputs": [],
   "source": [
    "import urllib3\n",
    "import requests\n",
    "import re\n",
    "from bs4 import BeautifulSoup as soup\n",
    "import pandas as pd\n",
    "urllib3.disable_warnings(urllib3.exceptions.InsecureRequestWarning)"
   ]
  },
  {
   "cell_type": "markdown",
   "metadata": {},
   "source": []
  },
  {
   "cell_type": "code",
   "execution_count": null,
   "metadata": {},
   "outputs": [],
   "source": [
    "\n",
    "headers = {\n",
    "    \"Access-Control-Allow-Origin\": \"*\",\n",
    "    \"Access-Control-Allow-Methods\": \"GET\",\n",
    "    \"Access-Control-Allow-Headers\": \"Content-Type\",\n",
    "    \"accept\": \"*/*\",\n",
    "    \"accept-encoding\": \"gzip, deflate, br\",\n",
    "    \"accept-language\": \"en-GB,en;q=0.9,en-US;q=0.8\",\n",
    "    \"User-Agent\": \"Mozilla/5.0 (Windows NT 10.0; Win64; x64) AppleWebKit/537.36 (KHTML, like Gecko) Chrome/96.0.4664.45 Safari/537.36 Edg/96.0.1054.29\",\n",
    "}\n",
    "url = (\n",
    "    \"https://www.tripadvisor.pt/Attractions-g189102-Activities-Beja_Beja_District_Alentejo.html\"\n",
    ")\n",
    "req = requests.get(url, headers=headers, timeout=5, verify=False)\n",
    "req.status_code\n",
    "bsobj = soup(req.content, \"lxml\")"
   ]
  },
  {
   "cell_type": "markdown",
   "metadata": {},
   "source": []
  },
  {
   "cell_type": "code",
   "execution_count": null,
   "metadata": {},
   "outputs": [],
   "source": [
    "\n",
    "hotel = []\n",
    "for name in bsobj.findAll(\"span\", {\"name\": \"title\"}):\n",
    "    hotel.append(re.sub(r\"\\b\\d+\\b\", \"\", name.text.strip())[2:])\n",
    "print(hotel)"
   ]
  },
  {
   "cell_type": "markdown",
   "metadata": {},
   "source": []
  },
  {
   "cell_type": "code",
   "execution_count": null,
   "metadata": {},
   "outputs": [],
   "source": [
    "\n",
    "links = []\n",
    "for review in bsobj.findAll(\"a\", {\"href\": re.compile(r'#REVIEWS')}):\n",
    "    try:\n",
    "        a = review[\"href\"]\n",
    "        a = \"https://www.tripadvisor.pt\" + a\n",
    "        c = a[: (a.find(\"Reviews\") + 7)] + \"\" + a[(a.find(\"Reviews\") + 7):]\n",
    "        links.append(c)\n",
    "        for i in range(10, 4000, 10):\n",
    "            b = (\n",
    "                a[: (a.find(\"Reviews\") + 7)]\n",
    "                + \"-or\"\n",
    "                + str(i)\n",
    "                + a[(a.find(\"Reviews\") + 7):]\n",
    "            )\n",
    "            links.append(b)\n",
    "    except:\n",
    "        pass\n",
    "# print(links)"
   ]
  },
  {
   "cell_type": "markdown",
   "metadata": {},
   "source": []
  },
  {
   "cell_type": "code",
   "execution_count": null,
   "metadata": {},
   "outputs": [],
   "source": [
    "\n",
    "length = len(hotel)\n",
    "d1 = {\n",
    "    \"Hotel\": hotel[:length]\n",
    "}\n",
    "df = pd.DataFrame.from_dict(d1)\n",
    "print(df)\n",
    "df.to_csv(\"listtable.csv\")"
   ]
  },
  {
   "cell_type": "markdown",
   "metadata": {},
   "source": []
  },
  {
   "cell_type": "code",
   "execution_count": null,
   "metadata": {},
   "outputs": [],
   "source": [
    "\n",
    "count = 0\n",
    "count2 = 0\n",
    "allreviews = []\n",
    "for link in links:\n",
    "    try:\n",
    "        html2 = requests.get(link, headers=headers)\n",
    "        bsobj2 = soup(html2.content, \"lxml\")\n",
    "        for r in bsobj2.findAll(\"span\", {\"class\": \"cSoNT\"}):\n",
    "            for rev in r:\n",
    "                try:\n",
    "                    rv = rev.text\n",
    "                    if \"desde\" not in rv and \"€\" not in rv:\n",
    "                        allreviews.append(rv + \"\\n\")\n",
    "                except:\n",
    "                    pass\n",
    "    except:\n",
    "        pass\n",
    "    count += 1\n",
    "    if count == 400:\n",
    "        seen = set()\n",
    "        allreviews = [\n",
    "            item\n",
    "            for item in allreviews\n",
    "            if not (tuple(item) in seen or seen.add(tuple(item)))\n",
    "        ]\n",
    "        dfr = pd.DataFrame.from_dict({\"Avaliações\": allreviews})\n",
    "        print(dfr)\n",
    "        dfr.to_csv(\"hotel\" + str(count2) + \".csv\")\n",
    "        allreviews = []\n",
    "        count = 0\n",
    "        count2 += 1\n"
   ]
  }
 ],
 "metadata": {
  "language_info": {
   "name": "python"
  },
  "orig_nbformat": 4
 },
 "nbformat": 4,
 "nbformat_minor": 2
}
