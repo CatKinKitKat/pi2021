{
 "cells": [
  {
   "cell_type": "markdown",
   "metadata": {},
   "source": [
    "# Imports"
   ]
  },
  {
   "cell_type": "code",
   "execution_count": 1,
   "metadata": {},
   "outputs": [],
   "source": [
    "import urllib3\n",
    "urllib3.disable_warnings(urllib3.exceptions.InsecureRequestWarning)\n",
    "import requests\n",
    "from bs4 import BeautifulSoup as soup\n",
    "import pandas as pd\n",
    "from random import randint\n",
    "from time import sleep"
   ]
  },
  {
   "cell_type": "markdown",
   "metadata": {},
   "source": []
  },
  {
   "cell_type": "code",
   "execution_count": 2,
   "metadata": {},
   "outputs": [],
   "source": [
    "headers = {\n",
    "        'Access-Control-Allow-Origin': '*',\n",
    "        'Access-Control-Allow-Methods': 'GET',\n",
    "        'Access-Control-Allow-Headers': 'Content-Type',\n",
    "        'accept': '*/*',\n",
    "        'accept-encoding': 'gzip, deflate, br',\n",
    "        'accept-language': 'en-GB,en;q=0.9,en-US;q=0.8',\n",
    "        'User-Agent': 'Mozilla/5.0 (Windows NT 10.0; Win64; x64) AppleWebKit/537.36 (KHTML, like Gecko) Chrome/96.0.4664.45 Safari/537.36 Edg/96.0.1054.29'}\n",
    "url = \"https://www.tripadvisor.com/Hotels-g189102-Beja_Beja_District_Alentejo-Hotels.html\"\n",
    "req = requests.get(url,headers=headers,timeout=5,verify=False)\n",
    "req.status_code\n",
    "bsobj = soup(req.content, 'lxml')"
   ]
  },
  {
   "cell_type": "markdown",
   "metadata": {},
   "source": []
  },
  {
   "cell_type": "code",
   "execution_count": 3,
   "metadata": {},
   "outputs": [
    {
     "name": "stdout",
     "output_type": "stream",
     "text": [
      "30\n"
     ]
    }
   ],
   "source": [
    "hotel = []\n",
    "for name in bsobj.findAll('div',{'class':'listing_title'}):\n",
    "  hotel.append(name.text.strip())\n",
    "print(len(hotel))"
   ]
  },
  {
   "cell_type": "markdown",
   "metadata": {},
   "source": []
  },
  {
   "cell_type": "code",
   "execution_count": 4,
   "metadata": {},
   "outputs": [
    {
     "name": "stdout",
     "output_type": "stream",
     "text": [
      "29\n"
     ]
    }
   ],
   "source": [
    "ratings = []\n",
    "for rating in bsobj.findAll('a',{'class':'ui_bubble_rating'}):\n",
    "  ratings.append(rating['alt'])\n",
    "print(len(ratings))"
   ]
  },
  {
   "cell_type": "markdown",
   "metadata": {},
   "source": []
  },
  {
   "cell_type": "code",
   "execution_count": 5,
   "metadata": {},
   "outputs": [
    {
     "name": "stdout",
     "output_type": "stream",
     "text": [
      "30\n"
     ]
    }
   ],
   "source": [
    "reviews = []\n",
    "for review in bsobj.findAll('a',{'class':'review_count'}):\n",
    "  reviews.append(review.text.strip())\n",
    "print(len(reviews))"
   ]
  },
  {
   "cell_type": "markdown",
   "metadata": {},
   "source": []
  },
  {
   "cell_type": "code",
   "execution_count": 6,
   "metadata": {},
   "outputs": [
    {
     "name": "stdout",
     "output_type": "stream",
     "text": [
      "24\n"
     ]
    }
   ],
   "source": [
    "price = []\n",
    "for p in bsobj.findAll('div',{'class':'price-wrap'}):\n",
    "  price.append(p.text.replace('€','').strip()) \n",
    "print(len(price))"
   ]
  },
  {
   "cell_type": "markdown",
   "metadata": {},
   "source": []
  },
  {
   "cell_type": "code",
   "execution_count": 7,
   "metadata": {},
   "outputs": [
    {
     "name": "stdout",
     "output_type": "stream",
     "text": [
      "https://www.tripadvisor.in/Hotel_Review-g189102-d1236929-Reviews-or{}-Hotel_Bejense-Beja_Beja_District_Alentejo.html#REVIEWS\n",
      "https://www.tripadvisor.in/Hotel_Review-g189102-d610889-Reviews-or{}-BejaParque_Hotel-Beja_Beja_District_Alentejo.html#REVIEWS\n",
      "https://www.tripadvisor.in/Hotel_Review-g189102-d253635-Reviews-or{}-Hotel_Melius-Beja_Beja_District_Alentejo.html#REVIEWS\n",
      "https://www.tripadvisor.in/Hotel_Review-g189102-d4502833-Reviews-or{}-Herdade_Da_Diabroria-Beja_Beja_District_Alentejo.html#REVIEWS\n",
      "https://www.tripadvisor.in/Hotel_Review-g189102-d22219258-Reviews-or{}-Maria_s_Guesthouse-Beja_Beja_District_Alentejo.html#REVIEWS\n",
      "https://www.tripadvisor.in/Hotel_Review-g189102-d253636-Reviews-or{}-Hotel_Santa_Barbara-Beja_Beja_District_Alentejo.html#REVIEWS\n",
      "https://www.tripadvisor.in/Hotel_Review-g189102-d6882442-Reviews-or{}-Hospedaria_Dona_Maria-Beja_Beja_District_Alentejo.html#REVIEWS\n",
      "https://www.tripadvisor.in/Hotel_Review-g189102-d7085328-Reviews-or{}-Beja_Hostel-Beja_Beja_District_Alentejo.html#REVIEWS\n",
      "https://www.tripadvisor.in/Hotel_Review-g189102-d17599982-Reviews-or{}-Imperio_romano_guest_house-Beja_Beja_District_Alentejo.html#REVIEWS\n",
      "https://www.tripadvisor.in/Hotel_Review-g189102-d21404298-Reviews-or{}-Guest_House_Stories-Beja_Beja_District_Alentejo.html#REVIEWS\n",
      "https://www.tripadvisor.in/Hotel_Review-g189102-d12108419-Reviews-or{}-Hospedaria_Santa_Maria-Beja_Beja_District_Alentejo.html#REVIEWS\n",
      "https://www.tripadvisor.in/Hotel_Review-g189102-d239324-Reviews-or{}-Pousada_Convento_Beja-Beja_Beja_District_Alentejo.html#REVIEWS\n",
      "https://www.tripadvisor.in/Hotel_Review-g189102-d305378-Reviews-or{}-Vila_Gale_Clube_de_Campo-Beja_Beja_District_Alentejo.html#REVIEWS\n",
      "https://www.tripadvisor.in/Hotel_Review-g189102-d7659250-Reviews-or{}-Herdade_Dos_Grous-Beja_Beja_District_Alentejo.html#REVIEWS\n",
      "\n",
      "https://www.tripadvisor.in/Hotel_Review-g189102-d3297557-Reviews-or{}-Monte_dos_Pocos_Agroturismo-Beja_Beja_District_Alentejo.html#REVIEWS\n",
      "https://www.tripadvisor.in/Hotel_Review-g2413548-d6875292-Reviews-or{}-Hotel_Santa_Clara-Vidigueira_Beja_District_Alentejo.html#REVIEWS\n",
      "https://www.tripadvisor.in/Hotel_Review-g2413548-d7810161-Reviews-or{}-Quinta_das_Ratoeiras-Vidigueira_Beja_District_Alentejo.html#REVIEWS\n",
      "https://www.tripadvisor.in/Hotel_Review-g660495-d2072682-Reviews-or{}-Herdade_das_Barradas_da_Serra-Grandola_Setubal_District_Alentejo.html#REVIEWS\n",
      "https://www.tripadvisor.in/Hotel_Review-g1049096-d281620-Reviews-or{}-Paradise_In_Portugal-Santa_Clara_a_Velha_Beja_District_Alentejo.html#REVIEWS\n",
      "https://www.tripadvisor.in/Hotel_Review-g616219-d2723746-Reviews-or{}-Villa_Extramuros-Arraiolos_Evora_District_Alentejo.html#REVIEWS\n",
      "https://www.tripadvisor.in/Hotel_Review-g189106-d253488-Reviews-or{}-Albergaria_Do_Calvario-Evora_Evora_District_Alentejo.html#REVIEWS\n",
      "https://www.tripadvisor.in/Hotel_Review-g445038-d304421-Reviews-or{}-Monte_Alerta_Turismo_Rural-Monsaraz_Evora_District_Alentejo.html#REVIEWS\n",
      "https://www.tripadvisor.in/Hotel_Review-g635881-d6450833-Reviews-or{}-Outeiro_do_Barro-Reguengos_de_Monsaraz_Evora_District_Alentejo.html#REVIEWS\n",
      "https://www.tripadvisor.in/Hotel_Review-g445038-d580679-Reviews-or{}-Monte_Saraz-Monsaraz_Evora_District_Alentejo.html#REVIEWS\n",
      "https://www.tripadvisor.in/Hotel_Review-g3226548-d3138030-Reviews-or{}-Monte_do_Giestal_Casas_de_Campo_Spa-Abela_Setubal_District_Alentejo.html#REVIEWS\n",
      "https://www.tripadvisor.in/Hotel_Review-g20976245-d2098414-Reviews-or{}-Imani_Country_House-Nossa_Senhora_de_Guadalupe_Evora_District_Alentejo.html#REVIEWS\n",
      "https://www.tripadvisor.in/Hotel_Review-g660495-d4721980-Reviews-or{}-Serenada_Enoturismo-Grandola_Setubal_District_Alentejo.html#REVIEWS\n",
      "https://www.tripadvisor.in/Hotel_Review-g445038-d9584359-Reviews-or{}-Sao_Lourenco_do_Barrocal-Monsaraz_Evora_District_Alentejo.html#REVIEWS\n",
      "https://www.tripadvisor.in/Hotel_Review-g445038-d1591040-Reviews-or{}-Horta_Da_Coutada-Monsaraz_Evora_District_Alentejo.html#REVIEWS\n"
     ]
    }
   ],
   "source": [
    "links = []\n",
    "for review in bsobj.findAll('a',{'class':'review_count'}):\n",
    "  try: \n",
    "    a = review['href']\n",
    "    a = 'https://www.tripadvisor.in'+ a\n",
    "    a = a[:(a.find('Reviews')+7)] + '-or{}' + a[(a.find('Reviews')+7):]\n",
    "    print(a)\n",
    "    links.append(a)\n",
    "  except:\n",
    "    print()"
   ]
  },
  {
   "cell_type": "markdown",
   "metadata": {},
   "source": []
  },
  {
   "cell_type": "code",
   "execution_count": 8,
   "metadata": {},
   "outputs": [],
   "source": [
    "# bad code\n",
    "length = len(price)\n",
    "if length > len(reviews):\n",
    "    length = len(reviews)\n",
    "if length > len(hotel):\n",
    "    length = len(hotel)\n",
    "if length > len(ratings):\n",
    "    length = len(ratings)"
   ]
  },
  {
   "cell_type": "code",
   "execution_count": 9,
   "metadata": {},
   "outputs": [
    {
     "name": "stdout",
     "output_type": "stream",
     "text": [
      "                            Hotel           Ratings  No_of_Reviews Price\n",
      "0                   Hotel Bejense    4 of 5 bubbles    192 reviews    61\n",
      "1                BejaParque Hotel  3.5 of 5 bubbles    159 reviews    80\n",
      "2                    Hotel Melius    4 of 5 bubbles     90 reviews    67\n",
      "3            Herdade Da Diabroria    4 of 5 bubbles     54 reviews    72\n",
      "4              Maria`s Guesthouse    5 of 5 bubbles      7 reviews  8076\n",
      "5             Hotel Santa Barbara    4 of 5 bubbles     62 reviews    56\n",
      "6           Hospedaria Dona Maria    4 of 5 bubbles     71 reviews    42\n",
      "7                     Beja Hostel  3.5 of 5 bubbles     35 reviews    42\n",
      "8      Imperio romano guest house  4.5 of 5 bubbles      5 reviews  6663\n",
      "9             Guest House Stories    5 of 5 bubbles       1 review    47\n",
      "10         Hospedaria Santa Maria    3 of 5 bubbles      6 reviews    34\n",
      "11          Pousada Convento Beja  4.5 of 5 bubbles    749 reviews   104\n",
      "12       Vila Gale Clube de Campo  4.5 of 5 bubbles    917 reviews    93\n",
      "13              Herdade Dos Grous  4.5 of 5 bubbles    229 reviews   123\n",
      "14             Aljana Guest House  3.5 of 5 bubbles      0 reviews    93\n",
      "15    Monte dos Pocos Agroturismo    4 of 5 bubbles     61 reviews      \n",
      "16              Hotel Santa Clara  4.5 of 5 bubbles     32 reviews    54\n",
      "17           Quinta das Ratoeiras    5 of 5 bubbles     14 reviews    75\n",
      "18  Herdade das Barradas da Serra    5 of 5 bubbles    229 reviews      \n",
      "19           Paradise In Portugal    5 of 5 bubbles    407 reviews    96\n",
      "20               Villa Extramuros    5 of 5 bubbles    186 reviews    79\n",
      "21         Albergaria Do Calvario    5 of 5 bubbles  2,286 reviews   137\n",
      "22     Monte Alerta Turismo Rural    5 of 5 bubbles    242 reviews    90\n",
      "23               Outeiro do Barro    5 of 5 bubbles    152 reviews    94\n"
     ]
    }
   ],
   "source": [
    "d1 = {'Hotel':hotel[:length],'Ratings':ratings[:length],'No_of_Reviews':reviews[:length],'Price':price[:length]}\n",
    "df = pd.DataFrame.from_dict(d1)\n",
    "print(df)"
   ]
  },
  {
   "cell_type": "markdown",
   "metadata": {},
   "source": []
  },
  {
   "cell_type": "code",
   "execution_count": 10,
   "metadata": {},
   "outputs": [
    {
     "name": "stdout",
     "output_type": "stream",
     "text": [
      "This little hotel is well priced and quite central in Beja. The facilities are small and the decoration is a bit odd. The room was very small with toilet but almost no space around the bed. The wall inside the room was all painted with floral motives and birds which is quite odd. Breakfast had good homemade cakes but very limited.\n",
      "This small hotel is situated in the heart of Beja's pedestrian area, and well located for exploring the town. As others have written, the beds are huge and comfortable. But our room was tiny, with no exterior window, and the bathroom was so small it was difficult to turn around. Would not revisit.\n",
      "From the moment we found this hotel, perfectly located within a cobbled shopping area hidden between little shops and restaurants, we fell in love with it. Such a pleasant change from the larger hotel chains, this place felt like staying with part of a family. The decor was filled with little memoirs of the lovely owners time growing up in Angola and it just felt so warm and inviting. Our room was perfect for purpose with a lovely little Juliet balcony that let the sun in and the sounds from the bustling street below. The breakfast, served every morning between 7:30 and 10:30 had a variety of continental treats and always cooked eggs available. Dina our lovely breakfast  host was always very cheerful and helpful and always took time to talk with us and say hello. Such a cheerful\n",
      "Very nice cosy charming Portuguese hotel. Clean medium size room (#201) well decorated with attention to details. Quiet room giving on pedestrian street. Comfortable beds. Very friendly and helpful staff. Very good breakfast with fried eggs. Free underground nearby parking with voucher (10 minutes walk).\n",
      "The room facing the quiet pedestrian only street was very comfortable and a good size. The staff were very pleasant and helpful. Breakfast was the usual Portuguese fare.  I had made a two night reservation by email two and a half months before my arrival.   Howeverthe hotel had lost track of my reservation. They were able to accommodate me for the first night only.   They made a reservation for me for my second night at another slightly more expensive hotel a hundred meters or so away. This hotel paid the difference between my confirmed room rate at the time I made my reservation, and the higher rate charge at the other Hotel.\n",
      "The hotel is tired. Towels are thin and hard. Carpets worn. Furniture and furnishings past their best. The breakfast buffet was OK. Restaurant food was poor. Service was generally OK but no better. With so many hotels closed because of COVID-19 it was probably the best option in Beja.\n",
      "Staying here for the second time, for us it’s convenient as here for hospital appointments. The hotel is good but is in the middle of renovation and extending so it is not quite or peaceful, having said that the staff are very helpful and attentive, it’s graded a 4*hotel but I personally would grade it 3plus, the shower heads are old fashioned, towels could be fluffier, the pool area and gardens are pleasant.\n",
      "Dropped on this hotel on the way back to Faro and very glad we did. A very professional establishment probably used for business conferences etc. However excellent room,lovely grounds with two swimming pools and without doubt the most delightful breakfast that I have ever had in the country. All for approx £65 in the height of summer,It's worth seeing an inland working town for\n",
      "The hotel is located on the highway and in front of petrol station. Nothing romantic. It is noisy, busy and staff.  Go somewhere else...  It is clean, by the way. And have smart staff. That is it. Avoid it.\n",
      "Stayed for the second time. Very comfortable very clean and all the services you need breakfast is great. They cooked me fresh eggs on the moment staff always ready to please you. Third time I go to Beja this is the hotel I will stay for sure. I honestly really had a great experience. Thank you bejaparquehotel.\n",
      "Liked  · Super friendly receptionist at checkin. Indicated a restaurant and even tried to book it for us right on the checkin and upgraded to a double bed room.  Big room with balcony (good view). Free parking spaces outside.  Disliked  · A bit dated, needs improvment, although there's a new area with padel courts. The breakfast products looked like from packaging (excepting croissants and bread)\n",
      "Good sized room, balcony not child friendly and asked for chairs, breakfast was good and fresh, was busy on Sunday morning but staff that were overrun were great, management need to assist them here! A 10/15min wall to several good restaurants and main town area. Free parking g in hotel and surrounding area. Recommend on value for money\n",
      "Very good location! Hotel was great, nice staff very friendly and also a nice bar. We stayed only 2 nights for a wedding but would recommend it if you're staying in Beja. Enough parking spaces also behind the Hotel.\n",
      "Staff were friendly, the room was clean and comfortable with a lovely décor and looks liked it has just been updated. The breakfast although continental offered a good choice of cereal, fruit, bread, cold meats, cheese and scrambled eggs. The bar was ok but lacked atmosphere, could have done with a swimming pool as it was extremely hot. They offered secure parking and the location was good not far from main town and next to a commercial centre which was handy. I have stayed in many three star hotels and apart from some amenities this hotel definitely deserves it three stars.\n",
      "We stayed for two nights in December, 2017. The hotel was adequate for our needs. Secure parking and east room assess without dealing with stairs, which are both important to us. The room was comfortable and clean. Breakfasts were minimal and the hotel does not offer a restaurant! Places to eat were right at hand though and we ate at a Chinese buffet next door which was very nice! Close drive to the heart of the city's  historical attractions and a friendly staff made our stay quite nice.\n",
      "What did I like? I liked everything about Herdade da Diabrória. Let's do it by steps. The room is large, well decorated, well soundproofed and fresh. (with 40C outside, I turned on the air conditioning once). The beds are very comfortable, as are the pillows. The bathroom is perfectly adequate and functional. Breakfast is good, varied and fresh. It is worth mentioning the carrot cake and the pumpkin compote, which are delicious! The staff is ALL fabulous! Extremely helpful, friendly, welcoming and in a good mood. On one of the days, at lunch/snack I ordered a Diabrória Salad with changes (because I'm lactose intolerant) and it came perfect and was wonderful. The pool is big enough, perfectly adequate and functional. The scenery around the pool is fabulous. You can hear the\n",
      "\"Higher Authority\" was having a significant birthday so we decided on two nights away. We mainly went for geocaching and we found 19 caches over the 3 days. The hotel was a drive away from places to eat and they did not do evening dinner, just B&B. We ate in Ferreira the first night, but when we enquired they said they would cook for us the second night if we wished for €17 each inc wine, so we said yes and ordered fish. I quietly asked the receptionist if she could get a little birthday cake.  There were just us on our candlelit table and the owner and his family of 6 on another. They served the fish with potatoes and onions, then came back with a further course (a black pork dish which is a Portuguese delicacy) so we were stuffed - also an excellent bottle of wine from the\n",
      "Very nice, friendly people that make you feel at home. Spacious Rooms and even bigger bathrooms. Great space for events. They organize the most amazing cakes from a near by place from one day to the next.\n",
      "What a great experience. It was only a night but I would had stayed longer. Great room, massive  bathroom. All staff very friendly. They prepared  a meal out of hours with no problems. The swimming pool was  really good bonus because of hot weather.  Looking forward to return  in another  occasion.  Would recommend this place to all my friends\n",
      "I wanted to visit the Beja area and this place was just right for me.  I was rattling around in a very spacious 'Junior Suite', which was sharp, modern and had the finest bathroom I've ever seen in an hotel.  I had a Swallow's nest in a niche outside my door!   The property is set next to a lake, which would be perfect for 'birders' and gives a very pleasant aspect.  I was a bit surprised to find that there is no evening meal unless the owners decide that the hotel is full enough to warrant the trouble, but there is a very friendly little restaurant in Sao Brissos, a couple of km away, which serves excellent local food at ridiculously low prices.  Breakfast at H da D was a bit hit and miss.  It is supposed to start at 0800, but on one day was not functional until 0830.  I was\n",
      "A charming, clean, beautifully renovated house in an excellent position in the historic centre. Our room was spacious and very comfortable.   Friendly and helpful hosts that provided an amazing breakfast.  Thank you!   Parking was no problem at all\n",
      "For some reason Beja was full during the weekend, and we ended up in this hotel. It is OK - rooms are tidy and clean but a bit smelly and really show their age. Like a 2 star hotel in Europe 30 years ago. Prices were OK. It is very well located at the center of town, but if you arrive with your cat and it is not weekend, you will find it hard to park.\n",
      "This is a very centrally located hotel in Beja. The management was very helpful in helping us to park the car and to change our room to a balcony third floor unit although we were assigned a first floor at no cost. The balcony was superb! very adequate and good people there.\n",
      "We stayed here last night.  The receptionist is very welcoming, and the hotel perfectly central.  Our room was quiet, clean and comfortable, and the air conditioning worked well (it was 38 C in late September!).  The continental breakfast was adequate, we would definitely stay here again.\n",
      "The hotel is nicely located in the center, in a pedestrian street. It is very clean and the staff is very helpful. The room is not very big but it is enough. The WC is OK, and the AC works great. Breakfast is OK, but not a continental one. It is a honest hotel but I found it a bit pricey for the the type of hotel it is.\n",
      "Great location in the historic section of Beja.  The rooms are comfortable if basic.  The hotel staff were extremely helpful and friendly. The breakfast is a good typical European buffet. I am a coffee drinker so I relished the percolator of coffee.  Highly recommend if you spend time outside your hotel room\n",
      "Very small room, (107), mess under the beds, hadn’t been cleaned, shower needs re-grouting, breakfast is as basic as it gets.  No storage space in rooms. Not particularly expensive, but there is nothing here to ‘wow’ you!!!\n",
      "The bed was comfortable and I got a good night's sleep.  The location is very central.  Staff were efficient.  The room was small and the very basic furnishings were in good condition.  There was exactly one available electrical outlet into which to plug portable electronic devices, and it was located nowhere near any surface (except for the floor) upon which to place said devices while charging.  The room was typical of the several I've stayed at in small hotels in this price range in provincial Portugal.  Hence I rate it at \"average\".  Breakfast was available starting at 0700.  It was an adequate but basis Portuguese breakfast.  I'd stayed the night before at Hotel Bejense 100 meters up the street; it was by far the nicer of the two hotels.\n",
      "It is well located, the employees are very friendly and the breakfast is well served. However, in the bedroom we heard a lot of noise in the morning (people talking in the corridor, up and down the stairs).\n",
      "We stayed here for three nights in June 2018. We had not booked ahead and chose this place based on its location, good price and availability. Our room was on the ground floor and was very comfortable, clean and quite large. The ensuite shower room was clean with everything in good order. Staff were friendly and helpful, storing our bags when we arrived several hours before check in. Breakfast was a basic continental style but it was fresh and sufficient.   Location of the hotel is great. It’s right outside the old town walls so access to old town sights, cafes and restaurants is excellent. There is a very good Italian restaurant next door (It has the same name so I assume it’s part of the same business?), which serves excellent and very good value food and local wines. Its also\n",
      "Stayed there with the family, staff where kid friendly, would go out of their way to help us! Prices are very responsible, all new decoration and furniture, close to most places of interest. Would I recommend- yes! P.S you have to try the food in their restaurant, food is lovely and the pizzas that’s some thing else.\n",
      "Second time I stay here, with my husband and again I had a great and comfortable time, everything was so nice and clean. Friendly staff and sweet decoration made me stay here again and again !  Thank you !!\n",
      "Had an overnight here on a trip through Portugal,  For £27 a night B&B it was perfect.  In the middle of the town with (meter) parking just outside it suited us perfectly.  There was even a kitchen for use by guests.\n",
      "We are four friends came to Beja and found this place and it was really awesome days what we spent there. The management team is very friendly and helpful. \"Pacemaker-man\" is our super hero there. Thank you all the team. Rooms are so clean and its the best hostel in Beja in neat price. Highly recommended!!!\n",
      "It is hostel in Beja, the location is near old city center. We stayed at top floor, there is no air conditioner in the room, so it felt very cold in winter night. When we get there (about 3:00 pm), there is nobody at reception, the staff checked in for us over 15 minutes even we have booked in advance. It has no city map for the guests, one have to find it in tourist center (at Castle of Beja). Also when we checked out, there is no staff at reception too. Compared with its price (30 Euro/night) & other hotels we stayed in Portugal, it is not a good place.\n",
      "Beautiful, clean, nice staff, good breakfast..! And bus station is 10 minutes away on foot. It's a very nice hostel in the city center. Especially we like the decoration of hostel! To be honest, the hostel is more beautiful than Beja.\n",
      "Free wi-fi in all rooms\n"
     ]
    },
    {
     "ename": "AttributeError",
     "evalue": "'NoneType' object has no attribute 'text'",
     "output_type": "error",
     "traceback": [
      "\u001b[1;31m---------------------------------------------------------------------------\u001b[0m",
      "\u001b[1;31mAttributeError\u001b[0m                            Traceback (most recent call last)",
      "\u001b[1;32m~\\AppData\\Local\\Temp/ipykernel_9988/259789014.py\u001b[0m in \u001b[0;36m<module>\u001b[1;34m\u001b[0m\n\u001b[0;32m      5\u001b[0m   \u001b[0mbsobj2\u001b[0m \u001b[1;33m=\u001b[0m \u001b[0msoup\u001b[0m\u001b[1;33m(\u001b[0m\u001b[0mhtml2\u001b[0m\u001b[1;33m.\u001b[0m\u001b[0mcontent\u001b[0m\u001b[1;33m,\u001b[0m\u001b[1;34m'lxml'\u001b[0m\u001b[1;33m)\u001b[0m\u001b[1;33m\u001b[0m\u001b[1;33m\u001b[0m\u001b[0m\n\u001b[0;32m      6\u001b[0m   \u001b[1;32mfor\u001b[0m \u001b[0mr\u001b[0m \u001b[1;32min\u001b[0m \u001b[0mbsobj2\u001b[0m\u001b[1;33m.\u001b[0m\u001b[0mfindAll\u001b[0m\u001b[1;33m(\u001b[0m\u001b[1;34m'q'\u001b[0m\u001b[1;33m)\u001b[0m\u001b[1;33m:\u001b[0m\u001b[1;33m\u001b[0m\u001b[1;33m\u001b[0m\u001b[0m\n\u001b[1;32m----> 7\u001b[1;33m     \u001b[0mallreviews\u001b[0m\u001b[1;33m.\u001b[0m\u001b[0mappend\u001b[0m\u001b[1;33m(\u001b[0m\u001b[0mr\u001b[0m\u001b[1;33m.\u001b[0m\u001b[0mspan\u001b[0m\u001b[1;33m.\u001b[0m\u001b[0mtext\u001b[0m\u001b[1;33m.\u001b[0m\u001b[0mstrip\u001b[0m\u001b[1;33m(\u001b[0m\u001b[1;33m)\u001b[0m\u001b[1;33m)\u001b[0m\u001b[1;33m\u001b[0m\u001b[1;33m\u001b[0m\u001b[0m\n\u001b[0m\u001b[0;32m      8\u001b[0m     \u001b[0mprint\u001b[0m\u001b[1;33m(\u001b[0m\u001b[0mr\u001b[0m\u001b[1;33m.\u001b[0m\u001b[0mspan\u001b[0m\u001b[1;33m.\u001b[0m\u001b[0mtext\u001b[0m\u001b[1;33m.\u001b[0m\u001b[0mstrip\u001b[0m\u001b[1;33m(\u001b[0m\u001b[1;33m)\u001b[0m\u001b[1;33m)\u001b[0m\u001b[1;33m\u001b[0m\u001b[1;33m\u001b[0m\u001b[0m\n",
      "\u001b[1;31mAttributeError\u001b[0m: 'NoneType' object has no attribute 'text'"
     ]
    }
   ],
   "source": [
    "allreviews = []\n",
    "for link in links:\n",
    "  html2 = requests.get(link.format(i for i in range(5,1000,5)),headers=headers)\n",
    "  sleep(randint(1,5))\n",
    "  bsobj2 = soup(html2.content,'lxml')\n",
    "  for r in bsobj2.findAll('q'):\n",
    "    allreviews.append(r.span.text.strip())\n",
    "    print(r.span.text.strip())"
   ]
  }
 ],
 "metadata": {
  "interpreter": {
   "hash": "773c6b3f1992f2b8db7c6acca0500584776d60a329f48491ffaae4707a322989"
  },
  "kernelspec": {
   "display_name": "Python 3.10.0 64-bit ('.venv': venv)",
   "language": "python",
   "name": "python3"
  },
  "language_info": {
   "codemirror_mode": {
    "name": "ipython",
    "version": 3
   },
   "file_extension": ".py",
   "mimetype": "text/x-python",
   "name": "python",
   "nbconvert_exporter": "python",
   "pygments_lexer": "ipython3",
   "version": "3.10.0"
  },
  "orig_nbformat": 4
 },
 "nbformat": 4,
 "nbformat_minor": 2
}
