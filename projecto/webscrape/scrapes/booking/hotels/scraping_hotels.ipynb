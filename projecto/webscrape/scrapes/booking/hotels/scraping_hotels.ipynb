{
 "cells": [
  {
   "cell_type": "markdown",
   "metadata": {},
   "source": [
    "Importing some librarys that we need to make the webscrapping of the booking.com"
   ]
  },
  {
   "cell_type": "code",
   "execution_count": 11,
   "metadata": {},
   "outputs": [],
   "source": [
    "from bs4 import BeautifulSoup\n",
    "import requests\n",
    "import pandas as pd"
   ]
  },
  {
   "cell_type": "markdown",
   "metadata": {},
   "source": [
    "We need to create the request to make the website send the information:\n",
    "To make that we use the library _requests_ and the _BeautifulSoup_ and the inspect tool to extract que name of the classes and the headers needed"
   ]
  },
  {
   "cell_type": "code",
   "execution_count": 12,
   "metadata": {},
   "outputs": [],
   "source": [
    "headers = {\n",
    "    'User-Agent': 'Mozilla/5.0 (Windows NT 10.0; Win64; x64) AppleWebKit/537.36 (KHTML, like Gecko) Chrome/96.0.4664.45 Safari/537.36 Edg/96.0.1054.29'}\n",
    "url = \"https://www.booking.com/searchresults.pt-pt.html?aid=375654&label=msn-jrwrFdUb9zKNuCHIkGmz2g-80745410834424%3Atikwd-80745436851624%3Aloc-152%3Aneo%3Amte%3Alp136814%3Adec%3Aqsbooking+&lang=pt-pt&sid=46fbd71f0246b3a03ace98d83fca46ba&sb=1&sb_lp=1&src=index&src_elem=sb&error_url=https%3A%2F%2Fwww.booking.com%2Findex.pt-pt.html%3Faid%3D375654%3Blabel%3Dmsn-jrwrFdUb9zKNuCHIkGmz2g-80745410834424%253Atikwd-80745436851624%253Aloc-152%253Aneo%253Amte%253Alp136814%253Adec%253Aqsbooking%2520%3Bsid%3D46fbd71f0246b3a03ace98d83fca46ba%3Bsb_price_type%3Dtotal%3Bsrpvid%3Dc84b81c8845800cf%26%3B&ss=Beja&is_ski_area=0&ssne=Beja&ssne_untouched=Beja&dest_id=-2159655&dest_type=city&checkin_year=2022&checkin_month=1&checkin_monthday=25&checkout_year=2022&checkout_month=1&checkout_monthday=28&group_adults=2&group_children=0&no_rooms=1&b_h4u_keep_filters=&from_sf=1\"\n",
    "response = requests.get(url, headers=headers)\n",
    "soup = BeautifulSoup(response.content, 'lxml')"
   ]
  },
  {
   "cell_type": "markdown",
   "metadata": {},
   "source": [
    "And the the arrays to receive the information from the website like the name of the hotels, the ratings... Every hotel are from Beja."
   ]
  },
  {
   "cell_type": "code",
   "execution_count": 13,
   "metadata": {},
   "outputs": [
    {
     "name": "stdout",
     "output_type": "stream",
     "text": [
      "\n",
      "\n",
      "\n",
      "\n"
     ]
    }
   ],
   "source": [
    "hotel = []\n",
    "badge = []\n",
    "title = []\n",
    "reviews = []\n",
    "price = []\n",
    "for item in soup.select('.fb3c4512b4'):\n",
    "    try:\n",
    "        hotel.append(item.select('.fde444d7ef')[0].get_text().strip())\n",
    "        badge.append(item.select('._9c5f726ff')[0].get_text().strip())\n",
    "        title.append(item.select('._192b3a196')[0].get_text().strip())\n",
    "        reviews.append(item.select('._1e6021d2f')[0].get_text().strip())\n",
    "        price.append(item.select('._e885fdc12')[0].get_text().strip())\n",
    "    except Exception as e:\n",
    "        print('')"
   ]
  },
  {
   "cell_type": "markdown",
   "metadata": {},
   "source": [
    "Only in case any of the arrays are different in size"
   ]
  },
  {
   "cell_type": "code",
   "execution_count": 14,
   "metadata": {},
   "outputs": [],
   "source": [
    "# bad code\n",
    "length = len(price)\n",
    "if length > len(reviews):\n",
    "    length = len(reviews)\n",
    "if length > len(hotel):\n",
    "    length = len(hotel)\n",
    "if length > len(badge):\n",
    "    length = len(badge)\n",
    "if length > len(title):\n",
    "    length = len(title)"
   ]
  },
  {
   "cell_type": "markdown",
   "metadata": {},
   "source": [
    "Saving the respective information and extracting to .csv"
   ]
  },
  {
   "cell_type": "code",
   "execution_count": 15,
   "metadata": {},
   "outputs": [
    {
     "name": "stdout",
     "output_type": "stream",
     "text": [
      "                                                Hotel Classificação  \\\n",
      "0                                       Hotel Bejense           8,4   \n",
      "1                             Aljana Guest House Beja           9,3   \n",
      "2                                    BejaParque Hotel           8,1   \n",
      "3                            Pousada Convento de Beja           8,7   \n",
      "4                                 Guest House Stories           8,7   \n",
      "5                                        Hotel Melius           8,1   \n",
      "6                                 Casa do Arco - Beja           9,4   \n",
      "7                      Barrote Beja- Alojamento Local           9,7   \n",
      "8                                  Maria`s Guesthouse           9,4   \n",
      "9                                         Beja Garden           8,0   \n",
      "10                     HI Beja - Pousada de Juventude           9,6   \n",
      "11                                   Casa do Sembrano           9,5   \n",
      "12  Casa Idalina Villa in Beja's beautiful country...           9,4   \n",
      "13                         Império Romano Guest House           9,0   \n",
      "14                Monte das Beatas - Alojamento Local           8,7   \n",
      "15                                     Casa do Jardim           8,8   \n",
      "16                                 Casa das Histórias           8,9   \n",
      "17               Casa Centro Histórico Beja - Castelo           7,9   \n",
      "18                                  Quinta do Castelo           9,0   \n",
      "19                                     Casa do Avô Zé           8,1   \n",
      "20                        Suite na Praça da República           8,7   \n",
      "21                 Herdade da Diabroria - Agroturismo           8,8   \n",
      "22                                     Herdade do Vau           7,8   \n",
      "23                             Monte da Corte Ligeira           8,3   \n",
      "\n",
      "                                           Suma       Avaliações  Preço  \n",
      "0                                         Ótimo  918 comentários  € 189  \n",
      "1                                       Soberbo  192 comentários  € 330  \n",
      "2   Alojamento do programa Viagens Sustentáveis  509 comentários  € 255  \n",
      "3                                      Fabuloso  644 comentários  € 270  \n",
      "4                                      Fabuloso  484 comentários  € 135  \n",
      "5   Alojamento do programa Viagens Sustentáveis  656 comentários  € 242  \n",
      "6                                       Soberbo   30 comentários  € 210  \n",
      "7                                    Excecional  175 comentários  € 255  \n",
      "8                                       Soberbo   43 comentários  € 226  \n",
      "9                                         Ótimo  440 comentários   € 90  \n",
      "10                                   Excecional   12 comentários  € 327  \n",
      "11                                   Excecional   30 comentários  € 330  \n",
      "12                                      Soberbo  206 comentários  € 210  \n",
      "13                                      Soberbo  108 comentários  € 150  \n",
      "14                                     Fabuloso   35 comentários  € 306  \n",
      "15                                     Fabuloso    4 comentários  € 270  \n",
      "16                                     Fabuloso   75 comentários  € 195  \n",
      "17                                          Bom   68 comentários  € 180  \n",
      "18                                      Soberbo   26 comentários  € 214  \n",
      "19                                        Ótimo   26 comentários  € 174  \n",
      "20                                     Fabuloso  601 comentários  € 228  \n",
      "21  Alojamento do programa Viagens Sustentáveis  333 comentários  € 285  \n",
      "22                                          Bom   78 comentários  € 270  \n",
      "23                                        Ótimo  372 comentários  € 150  \n"
     ]
    }
   ],
   "source": [
    "d1 = {'Hotel': hotel[:length], 'Classificação': badge[:length],\n",
    "      'Suma': title[:length], 'Avaliações': reviews[:length], 'Preço': price[:length]}\n",
    "df = pd.DataFrame.from_dict(d1)\n",
    "print(df)\n",
    "df.to_csv('listtable.csv')"
   ]
  }
 ],
 "metadata": {
  "interpreter": {
   "hash": "3d67e5cedc15fe40d20ea741ec659655381b6f95d4024799cac27acaa4de98ec"
  },
  "kernelspec": {
   "display_name": "Python 3.10.0 64-bit ('.venv': venv)",
   "language": "python",
   "name": "python3"
  },
  "language_info": {
   "codemirror_mode": {
    "name": "ipython",
    "version": 3
   },
   "file_extension": ".py",
   "mimetype": "text/x-python",
   "name": "python",
   "nbconvert_exporter": "python",
   "pygments_lexer": "ipython3",
   "version": "3.10.0"
  },
  "orig_nbformat": 4
 },
 "nbformat": 4,
 "nbformat_minor": 2
}
